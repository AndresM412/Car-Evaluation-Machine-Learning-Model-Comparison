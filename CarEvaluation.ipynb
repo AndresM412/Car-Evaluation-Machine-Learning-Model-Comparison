{
  "cells": [
    {
      "cell_type": "markdown",
      "metadata": {
        "id": "Vxysflxn61z1"
      },
      "source": [
        "# Proyecto 1 – Clasificación con *Car Evaluation* (UCI)\n",
        "\n",
        "**Curso:** Inteligencia Artificial  \n",
        "**Estudiante:** *Jairo Andrés Mendoza Villalba*  \n",
        "**Fecha:** 2025-09-08\n",
        "\n",
        "> Este notebook sigue la estructura solicitada en la guía del proyecto y utiliza el dataset **Car Evaluation** de UCI.\n"
      ],
      "id": "Vxysflxn61z1"
    },
    {
      "cell_type": "markdown",
      "metadata": {
        "id": "fBa5p08n61z4"
      },
      "source": [
        "## Índice\n",
        "1. [Introducción y objetivo](#intro)\n",
        "2. [Descripción del dataset](#dataset)\n",
        "3. [Carga de datos](#load)\n",
        "4. [Análisis exploratorio (EDA)](#eda)\n",
        "5. [Preparación de datos](#prep)\n",
        "6. [Modelado y validación cruzada (10 folds)](#modeling)\n",
        "    - 6.1 Regresión Logística  \n",
        "    - 6.2 SVM (Máquinas de Vectores de Soporte)  \n",
        "    - 6.3 Búsqueda de hiperparámetros (Grid)\n",
        "7. [Comparación de modelos y selección del mejor](#compare)\n",
        "8. [Conclusiones](#conclusions)\n"
      ],
      "id": "fBa5p08n61z4"
    },
    {
      "cell_type": "markdown",
      "metadata": {
        "id": "g72rdn_X61z6"
      },
      "source": [
        "<a id=\"intro\"></a>\n",
        "## 1. Introducción y objetivo\n",
        "\n",
        "El objetivo de este proyecto es resolver un problema de **clasificación** usando el dataset **Car Evaluation** de UCI.  \n",
        "Entrenaremos y compararemos dos modelos: **Regresión Logística** y **SVM**, empleando **validación cruzada con 10 folds** y una **malla de hiperparámetros** cuando aplique.  \n",
        "Reportaremos las métricas **Macro-Precision**, **Macro-Recall** y **Macro-F1** (al ser un problema **multiclase**).\n"
      ],
      "id": "g72rdn_X61z6"
    },
    {
      "cell_type": "markdown",
      "metadata": {
        "id": "OY2xrftp61z7"
      },
      "source": [
        "<a id=\"dataset\"></a>\n",
        "## 2. Descripción del dataset\n",
        "\n",
        "**Fuente:** UCI Machine Learning Repository – *Car Evaluation Data Set*.  \n",
        "**Dominio del problema:** evaluación de autos (aceptabilidad).  \n",
        "**Utilidad:** predecir la clase de aceptabilidad de un auto a partir de atributos cualitativos del vehículo.\n",
        "\n",
        "**Variables (todas categóricas):**\n",
        "- `buying`: costo de compra (`vhigh`, `high`, `med`, `low`)\n",
        "- `maint`: costo de mantenimiento (`vhigh`, `high`, `med`, `low`)\n",
        "- `doors`: número de puertas (`2`, `3`, `4`, `5more`)\n",
        "- `persons`: capacidad de personas (`2`, `4`, `more`)\n",
        "- `lug_boot`: tamaño del baúl (`small`, `med`, `big`)\n",
        "- `safety`: nivel de seguridad (`low`, `med`, `high`)\n",
        "\n",
        "**Variable de salida (clase):** `class` con valores (`unacc`, `acc`, `good`, `vgood`).\n",
        "\n",
        "**Tipo de problema:** clasificación multiclase.\n",
        "\n",
        "\n"
      ],
      "id": "OY2xrftp61z7"
    },
    {
      "cell_type": "markdown",
      "metadata": {
        "id": "bl_h6FBd61z7"
      },
      "source": [
        "<a id=\"load\"></a>\n",
        "## 3. Carga de datos\n",
        "\n",
        "A continuación, intentamos cargar el CSV local `car_evaluation.csv`.  \n",
        "Si no existe, descargaremos la versión de UCI y la guardaremos localmente para dejar el proyecto autónomo.\n"
      ],
      "id": "bl_h6FBd61z7"
    },
    {
      "cell_type": "code",
      "metadata": {
        "colab": {
          "base_uri": "https://localhost:8080/",
          "height": 206
        },
        "id": "lcsqf86861z8",
        "outputId": "cfdcfd64-a2c3-475d-f68c-538791533060"
      },
      "source": [
        "# === CARGA / DESCARGA DE DATOS ===\n",
        "import os\n",
        "import pandas as pd\n",
        "\n",
        "LOCAL_CSV = \"car_evaluation.csv\"\n",
        "UCI_URL = \"https://archive.ics.uci.edu/ml/machine-learning-databases/car/car.data\"\n",
        "\n",
        "columns = [\"buying\", \"maint\", \"doors\", \"persons\", \"lug_boot\", \"safety\", \"class\"]\n",
        "\n",
        "def load_or_download_car_data(local_path=LOCAL_CSV, url=UCI_URL, cols=columns):\n",
        "    if os.path.exists(local_path):\n",
        "        df = pd.read_csv(local_path)\n",
        "        # Asegurar nombres de columnas correctos (por si fue guardado sin header)\n",
        "        if list(df.columns) != cols:\n",
        "            df.columns = cols\n",
        "        return df\n",
        "    else:\n",
        "        # Descargar desde UCI y guardar como CSV con encabezados\n",
        "        df = pd.read_csv(url, header=None, names=cols)\n",
        "        df.to_csv(local_path, index=False)\n",
        "        return df\n",
        "\n",
        "df = load_or_download_car_data()\n",
        "df.head()"
      ],
      "outputs": [
        {
          "output_type": "execute_result",
          "data": {
            "text/plain": [
              "  buying  maint doors persons lug_boot safety  class\n",
              "0  vhigh  vhigh     2       2    small    low  unacc\n",
              "1  vhigh  vhigh     2       2    small    med  unacc\n",
              "2  vhigh  vhigh     2       2    small   high  unacc\n",
              "3  vhigh  vhigh     2       2      med    low  unacc\n",
              "4  vhigh  vhigh     2       2      med    med  unacc"
            ],
            "text/html": [
              "\n",
              "  <div id=\"df-bbc3bd72-f6fa-4194-af50-e707d57bd5a2\" class=\"colab-df-container\">\n",
              "    <div>\n",
              "<style scoped>\n",
              "    .dataframe tbody tr th:only-of-type {\n",
              "        vertical-align: middle;\n",
              "    }\n",
              "\n",
              "    .dataframe tbody tr th {\n",
              "        vertical-align: top;\n",
              "    }\n",
              "\n",
              "    .dataframe thead th {\n",
              "        text-align: right;\n",
              "    }\n",
              "</style>\n",
              "<table border=\"1\" class=\"dataframe\">\n",
              "  <thead>\n",
              "    <tr style=\"text-align: right;\">\n",
              "      <th></th>\n",
              "      <th>buying</th>\n",
              "      <th>maint</th>\n",
              "      <th>doors</th>\n",
              "      <th>persons</th>\n",
              "      <th>lug_boot</th>\n",
              "      <th>safety</th>\n",
              "      <th>class</th>\n",
              "    </tr>\n",
              "  </thead>\n",
              "  <tbody>\n",
              "    <tr>\n",
              "      <th>0</th>\n",
              "      <td>vhigh</td>\n",
              "      <td>vhigh</td>\n",
              "      <td>2</td>\n",
              "      <td>2</td>\n",
              "      <td>small</td>\n",
              "      <td>low</td>\n",
              "      <td>unacc</td>\n",
              "    </tr>\n",
              "    <tr>\n",
              "      <th>1</th>\n",
              "      <td>vhigh</td>\n",
              "      <td>vhigh</td>\n",
              "      <td>2</td>\n",
              "      <td>2</td>\n",
              "      <td>small</td>\n",
              "      <td>med</td>\n",
              "      <td>unacc</td>\n",
              "    </tr>\n",
              "    <tr>\n",
              "      <th>2</th>\n",
              "      <td>vhigh</td>\n",
              "      <td>vhigh</td>\n",
              "      <td>2</td>\n",
              "      <td>2</td>\n",
              "      <td>small</td>\n",
              "      <td>high</td>\n",
              "      <td>unacc</td>\n",
              "    </tr>\n",
              "    <tr>\n",
              "      <th>3</th>\n",
              "      <td>vhigh</td>\n",
              "      <td>vhigh</td>\n",
              "      <td>2</td>\n",
              "      <td>2</td>\n",
              "      <td>med</td>\n",
              "      <td>low</td>\n",
              "      <td>unacc</td>\n",
              "    </tr>\n",
              "    <tr>\n",
              "      <th>4</th>\n",
              "      <td>vhigh</td>\n",
              "      <td>vhigh</td>\n",
              "      <td>2</td>\n",
              "      <td>2</td>\n",
              "      <td>med</td>\n",
              "      <td>med</td>\n",
              "      <td>unacc</td>\n",
              "    </tr>\n",
              "  </tbody>\n",
              "</table>\n",
              "</div>\n",
              "    <div class=\"colab-df-buttons\">\n",
              "\n",
              "  <div class=\"colab-df-container\">\n",
              "    <button class=\"colab-df-convert\" onclick=\"convertToInteractive('df-bbc3bd72-f6fa-4194-af50-e707d57bd5a2')\"\n",
              "            title=\"Convert this dataframe to an interactive table.\"\n",
              "            style=\"display:none;\">\n",
              "\n",
              "  <svg xmlns=\"http://www.w3.org/2000/svg\" height=\"24px\" viewBox=\"0 -960 960 960\">\n",
              "    <path d=\"M120-120v-720h720v720H120Zm60-500h600v-160H180v160Zm220 220h160v-160H400v160Zm0 220h160v-160H400v160ZM180-400h160v-160H180v160Zm440 0h160v-160H620v160ZM180-180h160v-160H180v160Zm440 0h160v-160H620v160Z\"/>\n",
              "  </svg>\n",
              "    </button>\n",
              "\n",
              "  <style>\n",
              "    .colab-df-container {\n",
              "      display:flex;\n",
              "      gap: 12px;\n",
              "    }\n",
              "\n",
              "    .colab-df-convert {\n",
              "      background-color: #E8F0FE;\n",
              "      border: none;\n",
              "      border-radius: 50%;\n",
              "      cursor: pointer;\n",
              "      display: none;\n",
              "      fill: #1967D2;\n",
              "      height: 32px;\n",
              "      padding: 0 0 0 0;\n",
              "      width: 32px;\n",
              "    }\n",
              "\n",
              "    .colab-df-convert:hover {\n",
              "      background-color: #E2EBFA;\n",
              "      box-shadow: 0px 1px 2px rgba(60, 64, 67, 0.3), 0px 1px 3px 1px rgba(60, 64, 67, 0.15);\n",
              "      fill: #174EA6;\n",
              "    }\n",
              "\n",
              "    .colab-df-buttons div {\n",
              "      margin-bottom: 4px;\n",
              "    }\n",
              "\n",
              "    [theme=dark] .colab-df-convert {\n",
              "      background-color: #3B4455;\n",
              "      fill: #D2E3FC;\n",
              "    }\n",
              "\n",
              "    [theme=dark] .colab-df-convert:hover {\n",
              "      background-color: #434B5C;\n",
              "      box-shadow: 0px 1px 3px 1px rgba(0, 0, 0, 0.15);\n",
              "      filter: drop-shadow(0px 1px 2px rgba(0, 0, 0, 0.3));\n",
              "      fill: #FFFFFF;\n",
              "    }\n",
              "  </style>\n",
              "\n",
              "    <script>\n",
              "      const buttonEl =\n",
              "        document.querySelector('#df-bbc3bd72-f6fa-4194-af50-e707d57bd5a2 button.colab-df-convert');\n",
              "      buttonEl.style.display =\n",
              "        google.colab.kernel.accessAllowed ? 'block' : 'none';\n",
              "\n",
              "      async function convertToInteractive(key) {\n",
              "        const element = document.querySelector('#df-bbc3bd72-f6fa-4194-af50-e707d57bd5a2');\n",
              "        const dataTable =\n",
              "          await google.colab.kernel.invokeFunction('convertToInteractive',\n",
              "                                                    [key], {});\n",
              "        if (!dataTable) return;\n",
              "\n",
              "        const docLinkHtml = 'Like what you see? Visit the ' +\n",
              "          '<a target=\"_blank\" href=https://colab.research.google.com/notebooks/data_table.ipynb>data table notebook</a>'\n",
              "          + ' to learn more about interactive tables.';\n",
              "        element.innerHTML = '';\n",
              "        dataTable['output_type'] = 'display_data';\n",
              "        await google.colab.output.renderOutput(dataTable, element);\n",
              "        const docLink = document.createElement('div');\n",
              "        docLink.innerHTML = docLinkHtml;\n",
              "        element.appendChild(docLink);\n",
              "      }\n",
              "    </script>\n",
              "  </div>\n",
              "\n",
              "\n",
              "    <div id=\"df-a10e40d0-75f0-4596-a597-c671cf7b0f4c\">\n",
              "      <button class=\"colab-df-quickchart\" onclick=\"quickchart('df-a10e40d0-75f0-4596-a597-c671cf7b0f4c')\"\n",
              "                title=\"Suggest charts\"\n",
              "                style=\"display:none;\">\n",
              "\n",
              "<svg xmlns=\"http://www.w3.org/2000/svg\" height=\"24px\"viewBox=\"0 0 24 24\"\n",
              "     width=\"24px\">\n",
              "    <g>\n",
              "        <path d=\"M19 3H5c-1.1 0-2 .9-2 2v14c0 1.1.9 2 2 2h14c1.1 0 2-.9 2-2V5c0-1.1-.9-2-2-2zM9 17H7v-7h2v7zm4 0h-2V7h2v10zm4 0h-2v-4h2v4z\"/>\n",
              "    </g>\n",
              "</svg>\n",
              "      </button>\n",
              "\n",
              "<style>\n",
              "  .colab-df-quickchart {\n",
              "      --bg-color: #E8F0FE;\n",
              "      --fill-color: #1967D2;\n",
              "      --hover-bg-color: #E2EBFA;\n",
              "      --hover-fill-color: #174EA6;\n",
              "      --disabled-fill-color: #AAA;\n",
              "      --disabled-bg-color: #DDD;\n",
              "  }\n",
              "\n",
              "  [theme=dark] .colab-df-quickchart {\n",
              "      --bg-color: #3B4455;\n",
              "      --fill-color: #D2E3FC;\n",
              "      --hover-bg-color: #434B5C;\n",
              "      --hover-fill-color: #FFFFFF;\n",
              "      --disabled-bg-color: #3B4455;\n",
              "      --disabled-fill-color: #666;\n",
              "  }\n",
              "\n",
              "  .colab-df-quickchart {\n",
              "    background-color: var(--bg-color);\n",
              "    border: none;\n",
              "    border-radius: 50%;\n",
              "    cursor: pointer;\n",
              "    display: none;\n",
              "    fill: var(--fill-color);\n",
              "    height: 32px;\n",
              "    padding: 0;\n",
              "    width: 32px;\n",
              "  }\n",
              "\n",
              "  .colab-df-quickchart:hover {\n",
              "    background-color: var(--hover-bg-color);\n",
              "    box-shadow: 0 1px 2px rgba(60, 64, 67, 0.3), 0 1px 3px 1px rgba(60, 64, 67, 0.15);\n",
              "    fill: var(--button-hover-fill-color);\n",
              "  }\n",
              "\n",
              "  .colab-df-quickchart-complete:disabled,\n",
              "  .colab-df-quickchart-complete:disabled:hover {\n",
              "    background-color: var(--disabled-bg-color);\n",
              "    fill: var(--disabled-fill-color);\n",
              "    box-shadow: none;\n",
              "  }\n",
              "\n",
              "  .colab-df-spinner {\n",
              "    border: 2px solid var(--fill-color);\n",
              "    border-color: transparent;\n",
              "    border-bottom-color: var(--fill-color);\n",
              "    animation:\n",
              "      spin 1s steps(1) infinite;\n",
              "  }\n",
              "\n",
              "  @keyframes spin {\n",
              "    0% {\n",
              "      border-color: transparent;\n",
              "      border-bottom-color: var(--fill-color);\n",
              "      border-left-color: var(--fill-color);\n",
              "    }\n",
              "    20% {\n",
              "      border-color: transparent;\n",
              "      border-left-color: var(--fill-color);\n",
              "      border-top-color: var(--fill-color);\n",
              "    }\n",
              "    30% {\n",
              "      border-color: transparent;\n",
              "      border-left-color: var(--fill-color);\n",
              "      border-top-color: var(--fill-color);\n",
              "      border-right-color: var(--fill-color);\n",
              "    }\n",
              "    40% {\n",
              "      border-color: transparent;\n",
              "      border-right-color: var(--fill-color);\n",
              "      border-top-color: var(--fill-color);\n",
              "    }\n",
              "    60% {\n",
              "      border-color: transparent;\n",
              "      border-right-color: var(--fill-color);\n",
              "    }\n",
              "    80% {\n",
              "      border-color: transparent;\n",
              "      border-right-color: var(--fill-color);\n",
              "      border-bottom-color: var(--fill-color);\n",
              "    }\n",
              "    90% {\n",
              "      border-color: transparent;\n",
              "      border-bottom-color: var(--fill-color);\n",
              "    }\n",
              "  }\n",
              "</style>\n",
              "\n",
              "      <script>\n",
              "        async function quickchart(key) {\n",
              "          const quickchartButtonEl =\n",
              "            document.querySelector('#' + key + ' button');\n",
              "          quickchartButtonEl.disabled = true;  // To prevent multiple clicks.\n",
              "          quickchartButtonEl.classList.add('colab-df-spinner');\n",
              "          try {\n",
              "            const charts = await google.colab.kernel.invokeFunction(\n",
              "                'suggestCharts', [key], {});\n",
              "          } catch (error) {\n",
              "            console.error('Error during call to suggestCharts:', error);\n",
              "          }\n",
              "          quickchartButtonEl.classList.remove('colab-df-spinner');\n",
              "          quickchartButtonEl.classList.add('colab-df-quickchart-complete');\n",
              "        }\n",
              "        (() => {\n",
              "          let quickchartButtonEl =\n",
              "            document.querySelector('#df-a10e40d0-75f0-4596-a597-c671cf7b0f4c button');\n",
              "          quickchartButtonEl.style.display =\n",
              "            google.colab.kernel.accessAllowed ? 'block' : 'none';\n",
              "        })();\n",
              "      </script>\n",
              "    </div>\n",
              "\n",
              "    </div>\n",
              "  </div>\n"
            ],
            "application/vnd.google.colaboratory.intrinsic+json": {
              "type": "dataframe",
              "variable_name": "df",
              "summary": "{\n  \"name\": \"df\",\n  \"rows\": 1728,\n  \"fields\": [\n    {\n      \"column\": \"buying\",\n      \"properties\": {\n        \"dtype\": \"category\",\n        \"num_unique_values\": 4,\n        \"samples\": [\n          \"high\",\n          \"low\",\n          \"vhigh\"\n        ],\n        \"semantic_type\": \"\",\n        \"description\": \"\"\n      }\n    },\n    {\n      \"column\": \"maint\",\n      \"properties\": {\n        \"dtype\": \"category\",\n        \"num_unique_values\": 4,\n        \"samples\": [\n          \"high\",\n          \"low\",\n          \"vhigh\"\n        ],\n        \"semantic_type\": \"\",\n        \"description\": \"\"\n      }\n    },\n    {\n      \"column\": \"doors\",\n      \"properties\": {\n        \"dtype\": \"category\",\n        \"num_unique_values\": 4,\n        \"samples\": [\n          \"3\",\n          \"5more\",\n          \"2\"\n        ],\n        \"semantic_type\": \"\",\n        \"description\": \"\"\n      }\n    },\n    {\n      \"column\": \"persons\",\n      \"properties\": {\n        \"dtype\": \"category\",\n        \"num_unique_values\": 3,\n        \"samples\": [\n          \"2\",\n          \"4\",\n          \"more\"\n        ],\n        \"semantic_type\": \"\",\n        \"description\": \"\"\n      }\n    },\n    {\n      \"column\": \"lug_boot\",\n      \"properties\": {\n        \"dtype\": \"category\",\n        \"num_unique_values\": 3,\n        \"samples\": [\n          \"small\",\n          \"med\",\n          \"big\"\n        ],\n        \"semantic_type\": \"\",\n        \"description\": \"\"\n      }\n    },\n    {\n      \"column\": \"safety\",\n      \"properties\": {\n        \"dtype\": \"category\",\n        \"num_unique_values\": 3,\n        \"samples\": [\n          \"low\",\n          \"med\",\n          \"high\"\n        ],\n        \"semantic_type\": \"\",\n        \"description\": \"\"\n      }\n    },\n    {\n      \"column\": \"class\",\n      \"properties\": {\n        \"dtype\": \"category\",\n        \"num_unique_values\": 4,\n        \"samples\": [\n          \"acc\",\n          \"good\",\n          \"unacc\"\n        ],\n        \"semantic_type\": \"\",\n        \"description\": \"\"\n      }\n    }\n  ]\n}"
            }
          },
          "metadata": {},
          "execution_count": 2
        }
      ],
      "execution_count": null,
      "id": "lcsqf86861z8"
    },
    {
      "cell_type": "markdown",
      "metadata": {
        "id": "3yv3NoDd61z9"
      },
      "source": [
        "<a id=\"eda\"></a>\n",
        "## 4. Análisis exploratorio de datos (EDA)\n",
        "\n",
        "Describimos cada variable, su tipo y distribución. Dado que todas las columnas son **categóricas**, mostraremos **conteos** por categoría y la **distribución de la clase**.  \n",
        "Además, validaremos rangos/valores posibles y buscaremos datos faltantes (no debería haber).\n"
      ],
      "id": "3yv3NoDd61z9"
    },
    {
      "cell_type": "code",
      "metadata": {
        "colab": {
          "base_uri": "https://localhost:8080/"
        },
        "id": "dK69NA_d61z-",
        "outputId": "facad3ac-ce3c-44fe-fd94-3aad7eba31bf"
      },
      "source": [
        "# Información general\n",
        "df.info()"
      ],
      "outputs": [
        {
          "output_type": "stream",
          "name": "stdout",
          "text": [
            "<class 'pandas.core.frame.DataFrame'>\n",
            "RangeIndex: 1728 entries, 0 to 1727\n",
            "Data columns (total 7 columns):\n",
            " #   Column    Non-Null Count  Dtype \n",
            "---  ------    --------------  ----- \n",
            " 0   buying    1728 non-null   object\n",
            " 1   maint     1728 non-null   object\n",
            " 2   doors     1728 non-null   object\n",
            " 3   persons   1728 non-null   object\n",
            " 4   lug_boot  1728 non-null   object\n",
            " 5   safety    1728 non-null   object\n",
            " 6   class     1728 non-null   object\n",
            "dtypes: object(7)\n",
            "memory usage: 94.6+ KB\n"
          ]
        }
      ],
      "execution_count": null,
      "id": "dK69NA_d61z-"
    },
    {
      "cell_type": "code",
      "metadata": {
        "colab": {
          "base_uri": "https://localhost:8080/",
          "height": 363
        },
        "id": "Ct7BrFOI61z_",
        "outputId": "4510c36a-0570-42eb-8537-b0d86021b414"
      },
      "source": [
        "# Muestra de filas\n",
        "df.sample(10, random_state=42)"
      ],
      "outputs": [
        {
          "output_type": "execute_result",
          "data": {
            "text/plain": [
              "     buying  maint  doors persons lug_boot safety  class\n",
              "599    high   high      4       2      med   high  unacc\n",
              "1201    med    low      2       4      med    med    acc\n",
              "628    high   high  5more       2      big    med  unacc\n",
              "1498    low   high  5more       4      med    med    acc\n",
              "1263    med    low      4    more      med    low  unacc\n",
              "931     med  vhigh      4       4      med    med    acc\n",
              "23    vhigh  vhigh      2    more      med   high  unacc\n",
              "844    high    low  5more       2      big    med  unacc\n",
              "964     med  vhigh  5more    more    small    med  unacc\n",
              "764    high    low      2       2      big   high  unacc"
            ],
            "text/html": [
              "\n",
              "  <div id=\"df-35fa80c2-315b-4361-bf64-48d7b2380468\" class=\"colab-df-container\">\n",
              "    <div>\n",
              "<style scoped>\n",
              "    .dataframe tbody tr th:only-of-type {\n",
              "        vertical-align: middle;\n",
              "    }\n",
              "\n",
              "    .dataframe tbody tr th {\n",
              "        vertical-align: top;\n",
              "    }\n",
              "\n",
              "    .dataframe thead th {\n",
              "        text-align: right;\n",
              "    }\n",
              "</style>\n",
              "<table border=\"1\" class=\"dataframe\">\n",
              "  <thead>\n",
              "    <tr style=\"text-align: right;\">\n",
              "      <th></th>\n",
              "      <th>buying</th>\n",
              "      <th>maint</th>\n",
              "      <th>doors</th>\n",
              "      <th>persons</th>\n",
              "      <th>lug_boot</th>\n",
              "      <th>safety</th>\n",
              "      <th>class</th>\n",
              "    </tr>\n",
              "  </thead>\n",
              "  <tbody>\n",
              "    <tr>\n",
              "      <th>599</th>\n",
              "      <td>high</td>\n",
              "      <td>high</td>\n",
              "      <td>4</td>\n",
              "      <td>2</td>\n",
              "      <td>med</td>\n",
              "      <td>high</td>\n",
              "      <td>unacc</td>\n",
              "    </tr>\n",
              "    <tr>\n",
              "      <th>1201</th>\n",
              "      <td>med</td>\n",
              "      <td>low</td>\n",
              "      <td>2</td>\n",
              "      <td>4</td>\n",
              "      <td>med</td>\n",
              "      <td>med</td>\n",
              "      <td>acc</td>\n",
              "    </tr>\n",
              "    <tr>\n",
              "      <th>628</th>\n",
              "      <td>high</td>\n",
              "      <td>high</td>\n",
              "      <td>5more</td>\n",
              "      <td>2</td>\n",
              "      <td>big</td>\n",
              "      <td>med</td>\n",
              "      <td>unacc</td>\n",
              "    </tr>\n",
              "    <tr>\n",
              "      <th>1498</th>\n",
              "      <td>low</td>\n",
              "      <td>high</td>\n",
              "      <td>5more</td>\n",
              "      <td>4</td>\n",
              "      <td>med</td>\n",
              "      <td>med</td>\n",
              "      <td>acc</td>\n",
              "    </tr>\n",
              "    <tr>\n",
              "      <th>1263</th>\n",
              "      <td>med</td>\n",
              "      <td>low</td>\n",
              "      <td>4</td>\n",
              "      <td>more</td>\n",
              "      <td>med</td>\n",
              "      <td>low</td>\n",
              "      <td>unacc</td>\n",
              "    </tr>\n",
              "    <tr>\n",
              "      <th>931</th>\n",
              "      <td>med</td>\n",
              "      <td>vhigh</td>\n",
              "      <td>4</td>\n",
              "      <td>4</td>\n",
              "      <td>med</td>\n",
              "      <td>med</td>\n",
              "      <td>acc</td>\n",
              "    </tr>\n",
              "    <tr>\n",
              "      <th>23</th>\n",
              "      <td>vhigh</td>\n",
              "      <td>vhigh</td>\n",
              "      <td>2</td>\n",
              "      <td>more</td>\n",
              "      <td>med</td>\n",
              "      <td>high</td>\n",
              "      <td>unacc</td>\n",
              "    </tr>\n",
              "    <tr>\n",
              "      <th>844</th>\n",
              "      <td>high</td>\n",
              "      <td>low</td>\n",
              "      <td>5more</td>\n",
              "      <td>2</td>\n",
              "      <td>big</td>\n",
              "      <td>med</td>\n",
              "      <td>unacc</td>\n",
              "    </tr>\n",
              "    <tr>\n",
              "      <th>964</th>\n",
              "      <td>med</td>\n",
              "      <td>vhigh</td>\n",
              "      <td>5more</td>\n",
              "      <td>more</td>\n",
              "      <td>small</td>\n",
              "      <td>med</td>\n",
              "      <td>unacc</td>\n",
              "    </tr>\n",
              "    <tr>\n",
              "      <th>764</th>\n",
              "      <td>high</td>\n",
              "      <td>low</td>\n",
              "      <td>2</td>\n",
              "      <td>2</td>\n",
              "      <td>big</td>\n",
              "      <td>high</td>\n",
              "      <td>unacc</td>\n",
              "    </tr>\n",
              "  </tbody>\n",
              "</table>\n",
              "</div>\n",
              "    <div class=\"colab-df-buttons\">\n",
              "\n",
              "  <div class=\"colab-df-container\">\n",
              "    <button class=\"colab-df-convert\" onclick=\"convertToInteractive('df-35fa80c2-315b-4361-bf64-48d7b2380468')\"\n",
              "            title=\"Convert this dataframe to an interactive table.\"\n",
              "            style=\"display:none;\">\n",
              "\n",
              "  <svg xmlns=\"http://www.w3.org/2000/svg\" height=\"24px\" viewBox=\"0 -960 960 960\">\n",
              "    <path d=\"M120-120v-720h720v720H120Zm60-500h600v-160H180v160Zm220 220h160v-160H400v160Zm0 220h160v-160H400v160ZM180-400h160v-160H180v160Zm440 0h160v-160H620v160ZM180-180h160v-160H180v160Zm440 0h160v-160H620v160Z\"/>\n",
              "  </svg>\n",
              "    </button>\n",
              "\n",
              "  <style>\n",
              "    .colab-df-container {\n",
              "      display:flex;\n",
              "      gap: 12px;\n",
              "    }\n",
              "\n",
              "    .colab-df-convert {\n",
              "      background-color: #E8F0FE;\n",
              "      border: none;\n",
              "      border-radius: 50%;\n",
              "      cursor: pointer;\n",
              "      display: none;\n",
              "      fill: #1967D2;\n",
              "      height: 32px;\n",
              "      padding: 0 0 0 0;\n",
              "      width: 32px;\n",
              "    }\n",
              "\n",
              "    .colab-df-convert:hover {\n",
              "      background-color: #E2EBFA;\n",
              "      box-shadow: 0px 1px 2px rgba(60, 64, 67, 0.3), 0px 1px 3px 1px rgba(60, 64, 67, 0.15);\n",
              "      fill: #174EA6;\n",
              "    }\n",
              "\n",
              "    .colab-df-buttons div {\n",
              "      margin-bottom: 4px;\n",
              "    }\n",
              "\n",
              "    [theme=dark] .colab-df-convert {\n",
              "      background-color: #3B4455;\n",
              "      fill: #D2E3FC;\n",
              "    }\n",
              "\n",
              "    [theme=dark] .colab-df-convert:hover {\n",
              "      background-color: #434B5C;\n",
              "      box-shadow: 0px 1px 3px 1px rgba(0, 0, 0, 0.15);\n",
              "      filter: drop-shadow(0px 1px 2px rgba(0, 0, 0, 0.3));\n",
              "      fill: #FFFFFF;\n",
              "    }\n",
              "  </style>\n",
              "\n",
              "    <script>\n",
              "      const buttonEl =\n",
              "        document.querySelector('#df-35fa80c2-315b-4361-bf64-48d7b2380468 button.colab-df-convert');\n",
              "      buttonEl.style.display =\n",
              "        google.colab.kernel.accessAllowed ? 'block' : 'none';\n",
              "\n",
              "      async function convertToInteractive(key) {\n",
              "        const element = document.querySelector('#df-35fa80c2-315b-4361-bf64-48d7b2380468');\n",
              "        const dataTable =\n",
              "          await google.colab.kernel.invokeFunction('convertToInteractive',\n",
              "                                                    [key], {});\n",
              "        if (!dataTable) return;\n",
              "\n",
              "        const docLinkHtml = 'Like what you see? Visit the ' +\n",
              "          '<a target=\"_blank\" href=https://colab.research.google.com/notebooks/data_table.ipynb>data table notebook</a>'\n",
              "          + ' to learn more about interactive tables.';\n",
              "        element.innerHTML = '';\n",
              "        dataTable['output_type'] = 'display_data';\n",
              "        await google.colab.output.renderOutput(dataTable, element);\n",
              "        const docLink = document.createElement('div');\n",
              "        docLink.innerHTML = docLinkHtml;\n",
              "        element.appendChild(docLink);\n",
              "      }\n",
              "    </script>\n",
              "  </div>\n",
              "\n",
              "\n",
              "    <div id=\"df-a15ef062-f1b2-4661-bb2f-1fa39573018b\">\n",
              "      <button class=\"colab-df-quickchart\" onclick=\"quickchart('df-a15ef062-f1b2-4661-bb2f-1fa39573018b')\"\n",
              "                title=\"Suggest charts\"\n",
              "                style=\"display:none;\">\n",
              "\n",
              "<svg xmlns=\"http://www.w3.org/2000/svg\" height=\"24px\"viewBox=\"0 0 24 24\"\n",
              "     width=\"24px\">\n",
              "    <g>\n",
              "        <path d=\"M19 3H5c-1.1 0-2 .9-2 2v14c0 1.1.9 2 2 2h14c1.1 0 2-.9 2-2V5c0-1.1-.9-2-2-2zM9 17H7v-7h2v7zm4 0h-2V7h2v10zm4 0h-2v-4h2v4z\"/>\n",
              "    </g>\n",
              "</svg>\n",
              "      </button>\n",
              "\n",
              "<style>\n",
              "  .colab-df-quickchart {\n",
              "      --bg-color: #E8F0FE;\n",
              "      --fill-color: #1967D2;\n",
              "      --hover-bg-color: #E2EBFA;\n",
              "      --hover-fill-color: #174EA6;\n",
              "      --disabled-fill-color: #AAA;\n",
              "      --disabled-bg-color: #DDD;\n",
              "  }\n",
              "\n",
              "  [theme=dark] .colab-df-quickchart {\n",
              "      --bg-color: #3B4455;\n",
              "      --fill-color: #D2E3FC;\n",
              "      --hover-bg-color: #434B5C;\n",
              "      --hover-fill-color: #FFFFFF;\n",
              "      --disabled-bg-color: #3B4455;\n",
              "      --disabled-fill-color: #666;\n",
              "  }\n",
              "\n",
              "  .colab-df-quickchart {\n",
              "    background-color: var(--bg-color);\n",
              "    border: none;\n",
              "    border-radius: 50%;\n",
              "    cursor: pointer;\n",
              "    display: none;\n",
              "    fill: var(--fill-color);\n",
              "    height: 32px;\n",
              "    padding: 0;\n",
              "    width: 32px;\n",
              "  }\n",
              "\n",
              "  .colab-df-quickchart:hover {\n",
              "    background-color: var(--hover-bg-color);\n",
              "    box-shadow: 0 1px 2px rgba(60, 64, 67, 0.3), 0 1px 3px 1px rgba(60, 64, 67, 0.15);\n",
              "    fill: var(--button-hover-fill-color);\n",
              "  }\n",
              "\n",
              "  .colab-df-quickchart-complete:disabled,\n",
              "  .colab-df-quickchart-complete:disabled:hover {\n",
              "    background-color: var(--disabled-bg-color);\n",
              "    fill: var(--disabled-fill-color);\n",
              "    box-shadow: none;\n",
              "  }\n",
              "\n",
              "  .colab-df-spinner {\n",
              "    border: 2px solid var(--fill-color);\n",
              "    border-color: transparent;\n",
              "    border-bottom-color: var(--fill-color);\n",
              "    animation:\n",
              "      spin 1s steps(1) infinite;\n",
              "  }\n",
              "\n",
              "  @keyframes spin {\n",
              "    0% {\n",
              "      border-color: transparent;\n",
              "      border-bottom-color: var(--fill-color);\n",
              "      border-left-color: var(--fill-color);\n",
              "    }\n",
              "    20% {\n",
              "      border-color: transparent;\n",
              "      border-left-color: var(--fill-color);\n",
              "      border-top-color: var(--fill-color);\n",
              "    }\n",
              "    30% {\n",
              "      border-color: transparent;\n",
              "      border-left-color: var(--fill-color);\n",
              "      border-top-color: var(--fill-color);\n",
              "      border-right-color: var(--fill-color);\n",
              "    }\n",
              "    40% {\n",
              "      border-color: transparent;\n",
              "      border-right-color: var(--fill-color);\n",
              "      border-top-color: var(--fill-color);\n",
              "    }\n",
              "    60% {\n",
              "      border-color: transparent;\n",
              "      border-right-color: var(--fill-color);\n",
              "    }\n",
              "    80% {\n",
              "      border-color: transparent;\n",
              "      border-right-color: var(--fill-color);\n",
              "      border-bottom-color: var(--fill-color);\n",
              "    }\n",
              "    90% {\n",
              "      border-color: transparent;\n",
              "      border-bottom-color: var(--fill-color);\n",
              "    }\n",
              "  }\n",
              "</style>\n",
              "\n",
              "      <script>\n",
              "        async function quickchart(key) {\n",
              "          const quickchartButtonEl =\n",
              "            document.querySelector('#' + key + ' button');\n",
              "          quickchartButtonEl.disabled = true;  // To prevent multiple clicks.\n",
              "          quickchartButtonEl.classList.add('colab-df-spinner');\n",
              "          try {\n",
              "            const charts = await google.colab.kernel.invokeFunction(\n",
              "                'suggestCharts', [key], {});\n",
              "          } catch (error) {\n",
              "            console.error('Error during call to suggestCharts:', error);\n",
              "          }\n",
              "          quickchartButtonEl.classList.remove('colab-df-spinner');\n",
              "          quickchartButtonEl.classList.add('colab-df-quickchart-complete');\n",
              "        }\n",
              "        (() => {\n",
              "          let quickchartButtonEl =\n",
              "            document.querySelector('#df-a15ef062-f1b2-4661-bb2f-1fa39573018b button');\n",
              "          quickchartButtonEl.style.display =\n",
              "            google.colab.kernel.accessAllowed ? 'block' : 'none';\n",
              "        })();\n",
              "      </script>\n",
              "    </div>\n",
              "\n",
              "    </div>\n",
              "  </div>\n"
            ],
            "application/vnd.google.colaboratory.intrinsic+json": {
              "type": "dataframe",
              "summary": "{\n  \"name\": \"df\",\n  \"rows\": 10,\n  \"fields\": [\n    {\n      \"column\": \"buying\",\n      \"properties\": {\n        \"dtype\": \"category\",\n        \"num_unique_values\": 4,\n        \"samples\": [\n          \"med\",\n          \"vhigh\",\n          \"high\"\n        ],\n        \"semantic_type\": \"\",\n        \"description\": \"\"\n      }\n    },\n    {\n      \"column\": \"maint\",\n      \"properties\": {\n        \"dtype\": \"category\",\n        \"num_unique_values\": 3,\n        \"samples\": [\n          \"high\",\n          \"low\",\n          \"vhigh\"\n        ],\n        \"semantic_type\": \"\",\n        \"description\": \"\"\n      }\n    },\n    {\n      \"column\": \"doors\",\n      \"properties\": {\n        \"dtype\": \"category\",\n        \"num_unique_values\": 3,\n        \"samples\": [\n          \"4\",\n          \"2\",\n          \"5more\"\n        ],\n        \"semantic_type\": \"\",\n        \"description\": \"\"\n      }\n    },\n    {\n      \"column\": \"persons\",\n      \"properties\": {\n        \"dtype\": \"category\",\n        \"num_unique_values\": 3,\n        \"samples\": [\n          \"2\",\n          \"4\",\n          \"more\"\n        ],\n        \"semantic_type\": \"\",\n        \"description\": \"\"\n      }\n    },\n    {\n      \"column\": \"lug_boot\",\n      \"properties\": {\n        \"dtype\": \"category\",\n        \"num_unique_values\": 3,\n        \"samples\": [\n          \"med\",\n          \"big\",\n          \"small\"\n        ],\n        \"semantic_type\": \"\",\n        \"description\": \"\"\n      }\n    },\n    {\n      \"column\": \"safety\",\n      \"properties\": {\n        \"dtype\": \"category\",\n        \"num_unique_values\": 3,\n        \"samples\": [\n          \"high\",\n          \"med\",\n          \"low\"\n        ],\n        \"semantic_type\": \"\",\n        \"description\": \"\"\n      }\n    },\n    {\n      \"column\": \"class\",\n      \"properties\": {\n        \"dtype\": \"category\",\n        \"num_unique_values\": 2,\n        \"samples\": [\n          \"acc\",\n          \"unacc\"\n        ],\n        \"semantic_type\": \"\",\n        \"description\": \"\"\n      }\n    }\n  ]\n}"
            }
          },
          "metadata": {},
          "execution_count": 4
        }
      ],
      "execution_count": null,
      "id": "Ct7BrFOI61z_"
    },
    {
      "cell_type": "code",
      "metadata": {
        "colab": {
          "base_uri": "https://localhost:8080/"
        },
        "id": "OrO2-QvL610A",
        "outputId": "cdd2f188-b9a3-4683-c88e-2d20ca774dac"
      },
      "source": [
        "# Valores únicos por columna (dominios categóricos)\n",
        "{col: df[col].unique().tolist() for col in df.columns}"
      ],
      "outputs": [
        {
          "output_type": "execute_result",
          "data": {
            "text/plain": [
              "{'buying': ['vhigh', 'high', 'med', 'low'],\n",
              " 'maint': ['vhigh', 'high', 'med', 'low'],\n",
              " 'doors': ['2', '3', '4', '5more'],\n",
              " 'persons': ['2', '4', 'more'],\n",
              " 'lug_boot': ['small', 'med', 'big'],\n",
              " 'safety': ['low', 'med', 'high'],\n",
              " 'class': ['unacc', 'acc', 'vgood', 'good']}"
            ]
          },
          "metadata": {},
          "execution_count": 5
        }
      ],
      "execution_count": null,
      "id": "OrO2-QvL610A"
    },
    {
      "cell_type": "code",
      "metadata": {
        "colab": {
          "base_uri": "https://localhost:8080/",
          "height": 304
        },
        "id": "OE8x8FcN610B",
        "outputId": "180a85a9-60b3-49e7-8943-377469c08d2c"
      },
      "source": [
        "# Comprobación de datos faltantes\n",
        "df.isna().sum()"
      ],
      "outputs": [
        {
          "output_type": "execute_result",
          "data": {
            "text/plain": [
              "buying      0\n",
              "maint       0\n",
              "doors       0\n",
              "persons     0\n",
              "lug_boot    0\n",
              "safety      0\n",
              "class       0\n",
              "dtype: int64"
            ],
            "text/html": [
              "<div>\n",
              "<style scoped>\n",
              "    .dataframe tbody tr th:only-of-type {\n",
              "        vertical-align: middle;\n",
              "    }\n",
              "\n",
              "    .dataframe tbody tr th {\n",
              "        vertical-align: top;\n",
              "    }\n",
              "\n",
              "    .dataframe thead th {\n",
              "        text-align: right;\n",
              "    }\n",
              "</style>\n",
              "<table border=\"1\" class=\"dataframe\">\n",
              "  <thead>\n",
              "    <tr style=\"text-align: right;\">\n",
              "      <th></th>\n",
              "      <th>0</th>\n",
              "    </tr>\n",
              "  </thead>\n",
              "  <tbody>\n",
              "    <tr>\n",
              "      <th>buying</th>\n",
              "      <td>0</td>\n",
              "    </tr>\n",
              "    <tr>\n",
              "      <th>maint</th>\n",
              "      <td>0</td>\n",
              "    </tr>\n",
              "    <tr>\n",
              "      <th>doors</th>\n",
              "      <td>0</td>\n",
              "    </tr>\n",
              "    <tr>\n",
              "      <th>persons</th>\n",
              "      <td>0</td>\n",
              "    </tr>\n",
              "    <tr>\n",
              "      <th>lug_boot</th>\n",
              "      <td>0</td>\n",
              "    </tr>\n",
              "    <tr>\n",
              "      <th>safety</th>\n",
              "      <td>0</td>\n",
              "    </tr>\n",
              "    <tr>\n",
              "      <th>class</th>\n",
              "      <td>0</td>\n",
              "    </tr>\n",
              "  </tbody>\n",
              "</table>\n",
              "</div><br><label><b>dtype:</b> int64</label>"
            ]
          },
          "metadata": {},
          "execution_count": 6
        }
      ],
      "execution_count": null,
      "id": "OE8x8FcN610B"
    },
    {
      "cell_type": "code",
      "metadata": {
        "colab": {
          "base_uri": "https://localhost:8080/"
        },
        "id": "UjQxpC0k610B",
        "outputId": "ab4ddd24-dfab-445d-ec4c-e06b44a8ef1f"
      },
      "source": [
        "# Distribución de la clase\n",
        "df['class'].value_counts(normalize=False), df['class'].value_counts(normalize=True).round(3)"
      ],
      "outputs": [
        {
          "output_type": "execute_result",
          "data": {
            "text/plain": [
              "(class\n",
              " unacc    1210\n",
              " acc       384\n",
              " good       69\n",
              " vgood      65\n",
              " Name: count, dtype: int64,\n",
              " class\n",
              " unacc    0.700\n",
              " acc      0.222\n",
              " good     0.040\n",
              " vgood    0.038\n",
              " Name: proportion, dtype: float64)"
            ]
          },
          "metadata": {},
          "execution_count": 7
        }
      ],
      "execution_count": null,
      "id": "UjQxpC0k610B"
    },
    {
      "cell_type": "code",
      "metadata": {
        "colab": {
          "base_uri": "https://localhost:8080/",
          "height": 1000
        },
        "id": "ul77ZHDg610B",
        "outputId": "121702fb-5494-43fb-8b3d-94eeade381d4"
      },
      "source": [
        "# Gráficos simples de barras para cada variable categórica\n",
        "import matplotlib.pyplot as plt\n",
        "\n",
        "for col in df.columns:\n",
        "    plt.figure(figsize=(6,4))\n",
        "\n",
        "    # Conteo y orden descendente\n",
        "    counts = df[col].value_counts().sort_values(ascending=False)\n",
        "\n",
        "    # Gráfico de barras horizontales\n",
        "    ax = counts.plot(kind='barh', color='skyblue', edgecolor='black')\n",
        "\n",
        "    # Título y etiquetas\n",
        "    plt.title(f\"Distribución de {col}\", fontsize=14)\n",
        "    plt.xlabel(\"Frecuencia\", fontsize=12)\n",
        "    plt.ylabel(\"Categorías\", fontsize=12)\n",
        "\n",
        "    # Agregar etiquetas con los valores\n",
        "    for i, v in enumerate(counts.values):\n",
        "        plt.text(v + 0.2, i, str(v), va='center', fontsize=10)\n",
        "\n",
        "    plt.tight_layout()\n",
        "    plt.show()\n"
      ],
      "outputs": [
        {
          "output_type": "display_data",
          "data": {
            "text/plain": [
              "<Figure size 600x400 with 1 Axes>"
            ],
            "image/png": "[encoded data removed]"
          },
          "metadata": {}
        },
        {
          "output_type": "display_data",
          "data": {
            "text/plain": [
              "<Figure size 600x400 with 1 Axes>"
            ],
            "image/png": "[encoded data removed]"
          },
          "metadata": {}
        },
        {
          "output_type": "display_data",
          "data": {
            "text/plain": [
              "<Figure size 600x400 with 1 Axes>"
            ],
            "image/png": "[encoded data removed]"
          },
          "metadata": {}
        },
        {
          "output_type": "display_data",
          "data": {
            "text/plain": [
              "<Figure size 600x400 with 1 Axes>"
            ],
            "image/png": "[encoded data removed]"
          },
          "metadata": {}
        },
        {
          "output_type": "display_data",
          "data": {
            "text/plain": [
              "<Figure size 600x400 with 1 Axes>"
            ],
            "image/png": "[encoded data removed]"
          },
          "metadata": {}
        },
        {
          "output_type": "display_data",
          "data": {
            "text/plain": [
              "<Figure size 600x400 with 1 Axes>"
            ],
            "image/png": "[encoded data removed]"
          },
          "metadata": {}
        },
        {
          "output_type": "display_data",
          "data": {
            "text/plain": [
              "<Figure size 600x400 with 1 Axes>"
            ],
            "image/png": "[encoded data removed]"
          },
          "metadata": {}
        }
      ],
      "execution_count": null,
      "id": "ul77ZHDg610B"
    },
    {
      "cell_type": "markdown",
      "metadata": {
        "id": "l_QztYoo610B"
      },
      "source": [
        "**Comentario EDA (resumen):**\n",
        "- Las variables independientes están bien distribuidas, lo que indica un dataset balanceado en las características predictoras.\n",
        "\n",
        "- Todas las variables son categóricas, por lo que será necesario aplicar algún tipo de codificación (ejemplo: One-Hot Encoding o Label Encoding) antes del modelado.\n",
        "\n",
        "- La variable objetivo (class) está desbalanceada: la mayoría de instancias pertenecen a la categoría unacc, mientras que las clases good y vgood son minoritarias.\n",
        "\n",
        "- Esto implica que un modelo sin técnicas de balanceo podría sesgarse hacia la clase mayoritaria y obtener una alta precisión, pero con bajo desempeño en las clases minoritarias.\n"
      ],
      "id": "l_QztYoo610B"
    },
    {
      "cell_type": "markdown",
      "metadata": {
        "id": "5jaIefpi610C"
      },
      "source": [
        "<a id=\"prep\"></a>\n",
        "## 5. Preparación de datos\n",
        "\n",
        "Utilizaremos:\n",
        "- `OneHotEncoder` para transformar las variables **categóricas** de entrada (X).\n",
        "- `LabelEncoder` para la variable **objetivo** (y).\n",
        "- `ColumnTransformer` + `Pipeline` para encapsular el preprocesamiento y el modelo.\n",
        "- `StratifiedKFold` con **10 folds** para mantener la proporción de clases en cada partición.\n"
      ],
      "id": "5jaIefpi610C"
    },
    {
      "cell_type": "code",
      "metadata": {
        "id": "34thnC_K610C"
      },
      "source": [
        "from sklearn.preprocessing import OneHotEncoder, LabelEncoder\n",
        "from sklearn.compose import ColumnTransformer\n",
        "from sklearn.pipeline import Pipeline\n",
        "from sklearn.model_selection import StratifiedKFold, cross_val_predict\n",
        "from sklearn.metrics import precision_score, recall_score, f1_score, classification_report, confusion_matrix\n",
        "import numpy as np\n",
        "import pandas as pd\n",
        "\n",
        "# Separar X, y\n",
        "X = df.drop(columns=['class'])\n",
        "y_str = df['class'].copy()\n",
        "\n",
        "# Codificar y (etiquetas)\n",
        "le = LabelEncoder()\n",
        "y = le.fit_transform(y_str)\n",
        "\n",
        "# Columnas categóricas (todas las de X)\n",
        "cat_features = X.columns.tolist()\n",
        "\n",
        "# Transformador para X\n",
        "preprocess = ColumnTransformer(\n",
        "    transformers=[('cat', OneHotEncoder(handle_unknown='ignore'), cat_features)]\n",
        ")\n",
        "\n",
        "# Definir CV estratificado\n",
        "cv = StratifiedKFold(n_splits=10, shuffle=True, random_state=42)\n",
        "\n",
        "# Función auxiliar para evaluar con CV un pipeline ya construido (sin grid)\n",
        "def evaluate_with_cv(pipeline, X, y, cv):\n",
        "    # cross_val_predict devuelve predicciones por validación cruzada\n",
        "    y_pred = cross_val_predict(pipeline, X, y, cv=cv)\n",
        "    macro_prec = precision_score(y, y_pred, average='macro', zero_division=0)\n",
        "    macro_rec  = recall_score(y, y_pred, average='macro', zero_division=0)\n",
        "    macro_f1   = f1_score(y, y_pred, average='macro', zero_division=0)\n",
        "    return macro_prec, macro_rec, macro_f1, y_pred\n"
      ],
      "outputs": [],
      "execution_count": null,
      "id": "34thnC_K610C"
    },
    {
      "cell_type": "markdown",
      "metadata": {
        "id": "qaRSOYpK610C"
      },
      "source": [
        "<a id=\"modeling\"></a>\n",
        "## 6. Modelado y validación cruzada (10 folds)\n",
        "\n",
        "Entrenaremos dos modelos:\n",
        "- **Regresión Logística**\n",
        "- **SVM**\n",
        "\n",
        "Primero haremos una evaluación base con hiperparámetros por defecto. Luego una **búsqueda en malla** (Grid Search) para optimizarlos.\n"
      ],
      "id": "qaRSOYpK610C"
    },
    {
      "cell_type": "markdown",
      "metadata": {
        "id": "F5t1lGh_610C"
      },
      "source": [
        "### 6.1 Regresión Logística – baseline"
      ],
      "id": "F5t1lGh_610C"
    },
    {
      "cell_type": "code",
      "metadata": {
        "colab": {
          "base_uri": "https://localhost:8080/"
        },
        "id": "-3a2S2Yk610D",
        "outputId": "722de9fc-cdbf-42bc-e853-510c17313af0"
      },
      "source": [
        "from sklearn.linear_model import LogisticRegression\n",
        "\n",
        "# Se crea un pipeline con el preprocesamiento y el modelo de Regresión Logística.\n",
        "# Se aumenta max_iter=1000 para asegurar la convergencia.\n",
        "log_reg = Pipeline(steps=[\n",
        "    ('pre', preprocess),\n",
        "    ('clf', LogisticRegression(max_iter=1000))\n",
        "])\n",
        "\n",
        "# Se evalúa el modelo con validación cruzada obteniendo precisión, recall y F1 macro.\n",
        "log_prec, log_rec, log_f1, log_pred = evaluate_with_cv(log_reg, X, y, cv)\n",
        "\n",
        "# Se imprimen las métricas del modelo baseline como punto de referencia.\n",
        "print(f\"Baseline LogReg -> Macro-Precision: {log_prec:.4f} | Macro-Recall: {log_rec:.4f} | Macro-F1: {log_f1:.4f}\")\n"
      ],
      "outputs": [
        {
          "output_type": "stream",
          "name": "stdout",
          "text": [
            "Baseline LogReg -> Macro-Precision: 0.8053 | Macro-Recall: 0.7584 | Macro-F1: 0.7684\n"
          ]
        }
      ],
      "execution_count": null,
      "id": "-3a2S2Yk610D"
    },
    {
      "cell_type": "markdown",
      "metadata": {
        "id": "E6wh0KPv610D"
      },
      "source": [
        "### 6.2 SVM – baseline"
      ],
      "id": "E6wh0KPv610D"
    },
    {
      "cell_type": "code",
      "metadata": {
        "colab": {
          "base_uri": "https://localhost:8080/"
        },
        "id": "nHxkOsOL610D",
        "outputId": "24372e54-bda5-42d4-82d8-29e1bcf49693"
      },
      "source": [
        "from sklearn.svm import SVC\n",
        "\n",
        "# Se crea un pipeline con el preprocesamiento y el modelo SVM.\n",
        "svm_clf = Pipeline(steps=[\n",
        "    ('pre', preprocess),\n",
        "    ('clf', SVC())\n",
        "])\n",
        "\n",
        "# Se evalúa el modelo con validación cruzada y se obtienen las métricas macro.\n",
        "svm_prec, svm_rec, svm_f1, svm_pred = evaluate_with_cv(svm_clf, X, y, cv)\n",
        "\n",
        "# Se imprimen los resultados del modelo baseline SVM para comparación inicial.\n",
        "print(f\"Baseline SVM -> Macro-Precision: {svm_prec:.4f} | Macro-Recall: {svm_rec:.4f} | Macro-F1: {svm_f1:.4f}\")\n"
      ],
      "outputs": [
        {
          "output_type": "stream",
          "name": "stdout",
          "text": [
            "Baseline SVM -> Macro-Precision: 0.9065 | Macro-Recall: 0.9604 | Macro-F1: 0.9314\n"
          ]
        }
      ],
      "execution_count": null,
      "id": "nHxkOsOL610D"
    },
    {
      "cell_type": "markdown",
      "metadata": {
        "id": "qLBdetxI610D"
      },
      "source": [
        "### 6.3 Búsqueda de hiperparámetros (Grid Search)"
      ],
      "id": "qLBdetxI610D"
    },
    {
      "cell_type": "code",
      "metadata": {
        "colab": {
          "base_uri": "https://localhost:8080/"
        },
        "id": "E2WpESxH610D",
        "outputId": "deec5ed9-a776-4542-b147-9fe9e42d3a46"
      },
      "source": [
        "from sklearn.model_selection import GridSearchCV\n",
        "\n",
        "# Se define un pipeline con preprocesamiento y regresión logística como modelo.\n",
        "log_reg_grid = Pipeline(steps=[\n",
        "    ('pre', preprocess),\n",
        "    ('clf', LogisticRegression(max_iter=2000, multi_class='auto'))\n",
        "])\n",
        "\n",
        "# Se establecen los hiperparámetros a explorar en la búsqueda.\n",
        "param_grid_log = {\n",
        "    'clf__penalty': ['l2'],\n",
        "    'clf__C': [0.1, 1.0, 10.0, 100.0],\n",
        "    'clf__solver': ['lbfgs', 'liblinear']\n",
        "}\n",
        "\n",
        "# Se configura GridSearchCV con validación cruzada y métrica f1_macro.\n",
        "grid_log = GridSearchCV(\n",
        "    estimator=log_reg_grid,\n",
        "    param_grid=param_grid_log,\n",
        "    scoring='f1_macro',\n",
        "    cv=cv,\n",
        "    n_jobs=-1\n",
        ")\n",
        "\n",
        "# Se entrena el grid search para encontrar los mejores hiperparámetros.\n",
        "grid_log.fit(X, y)\n",
        "\n",
        "# Se muestran los parámetros óptimos y el mejor puntaje obtenido.\n",
        "print(\"Mejores params LogReg:\", grid_log.best_params_)\n",
        "print(\"Mejor Macro-F1 LogReg:\", grid_log.best_score_)\n"
      ],
      "outputs": [
        {
          "output_type": "stream",
          "name": "stdout",
          "text": [
            "Mejores params LogReg: {'clf__C': 100.0, 'clf__penalty': 'l2', 'clf__solver': 'lbfgs'}\n",
            "Mejor Macro-F1 LogReg: 0.8810621644999891\n"
          ]
        },
        {
          "output_type": "stream",
          "name": "stderr",
          "text": [
            "/usr/local/lib/python3.12/dist-packages/sklearn/linear_model/_logistic.py:1247: FutureWarning: 'multi_class' was deprecated in version 1.5 and will be removed in 1.7. From then on, it will always use 'multinomial'. Leave it to its default value to avoid this warning.\n",
            "  warnings.warn(\n"
          ]
        }
      ],
      "execution_count": null,
      "id": "E2WpESxH610D"
    },
    {
      "cell_type": "code",
      "metadata": {
        "colab": {
          "base_uri": "https://localhost:8080/"
        },
        "id": "foQRzuLk610E",
        "outputId": "bf4e6e75-5649-4c96-b33e-816a82e84936"
      },
      "source": [
        "# Grid para SVM\n",
        "svm_grid = Pipeline(steps=[\n",
        "    ('pre', preprocess),   # Se aplica el preprocesamiento antes del modelo\n",
        "    ('clf', SVC())         # Se define el clasificador SVM\n",
        "])\n",
        "\n",
        "# Se definen los hiperparámetros a probar en el grid search\n",
        "param_grid_svm = {\n",
        "    'clf__kernel': ['linear', 'rbf', 'poly'],   # Tipos de kernel\n",
        "    'clf__C': [0.1, 1.0, 10.0, 100.0],          # Regularización\n",
        "    'clf__gamma': ['scale', 'auto'],            # Parámetro gamma para rbf/poly\n",
        "    'clf__degree': [2, 3]                       # Grado del polinomio (solo poly)\n",
        "}\n",
        "\n",
        "# Se configura el grid search con validación cruzada y métrica f1_macro\n",
        "grid_svm = GridSearchCV(\n",
        "    estimator=svm_grid,\n",
        "    param_grid=param_grid_svm,\n",
        "    scoring='f1_macro',\n",
        "    cv=cv,\n",
        "    n_jobs=-1\n",
        ")\n",
        "\n",
        "# Se ejecuta la búsqueda de los mejores hiperparámetros\n",
        "grid_svm.fit(X, y)\n",
        "\n",
        "# Se imprimen los parámetros óptimos y el mejor puntaje Macro-F1 alcanzado\n",
        "print(\"Mejores params SVM:\", grid_svm.best_params_)\n",
        "print(\"Mejor Macro-F1 SVM:\", grid_svm.best_score_)\n"
      ],
      "outputs": [
        {
          "output_type": "stream",
          "name": "stdout",
          "text": [
            "Mejores params SVM: {'clf__C': 10.0, 'clf__degree': 2, 'clf__gamma': 'scale', 'clf__kernel': 'rbf'}\n",
            "Mejor Macro-F1 SVM: 1.0\n"
          ]
        }
      ],
      "execution_count": null,
      "id": "foQRzuLk610E"
    },
    {
      "cell_type": "markdown",
      "metadata": {
        "id": "51cmpZhM610E"
      },
      "source": [
        "<a id=\"compare\"></a>\n",
        "## 7. Comparación de modelos y selección del mejor\n",
        "\n",
        "Compararemos los resultados baseline y los obtenidos con grid search. Elegiremos el mejor según **Macro-F1** (y revisaremos también Macro-Precision y Macro-Recall).  \n",
        "Adicionalmente, mostraremos un **classification_report** y una **matriz de confusión** para el mejor modelo.\n"
      ],
      "id": "51cmpZhM610E"
    },
    {
      "cell_type": "code",
      "metadata": {
        "colab": {
          "base_uri": "https://localhost:8080/",
          "height": 211
        },
        "id": "S_ew0UNS610E",
        "outputId": "61ea1c6e-f744-4184-e34f-270a3847eb9b"
      },
      "source": [
        "# Se importan herramientas de pandas para organizar resultados\n",
        "import pandas as pd\n",
        "\n",
        "# Se construye un DataFrame con las métricas de los modelos baseline\n",
        "results_baseline = pd.DataFrame([\n",
        "    {\"Modelo\": \"LogReg (baseline)\", \"Macro-Precision\": log_prec, \"Macro-Recall\": log_rec, \"Macro-F1\": log_f1},\n",
        "    {\"Modelo\": \"SVM (baseline)\",    \"Macro-Precision\": svm_prec, \"Macro-Recall\": svm_rec, \"Macro-F1\": svm_f1},\n",
        "])\n",
        "\n",
        "# Se ordenan los modelos de mayor a menor Macro-F1 y se muestran\n",
        "display(results_baseline.sort_values(by=\"Macro-F1\", ascending=False).reset_index(drop=True))"
      ],
      "outputs": [
        {
          "output_type": "error",
          "ename": "NameError",
          "evalue": "name 'log_prec' is not defined",
          "traceback": [
            "\u001b[0;31m---------------------------------------------------------------------------\u001b[0m",
            "\u001b[0;31mNameError\u001b[0m                                 Traceback (most recent call last)",
            "\u001b[0;32m/tmp/ipython-input-337250222.py\u001b[0m in \u001b[0;36m<cell line: 0>\u001b[0;34m()\u001b[0m\n\u001b[1;32m      4\u001b[0m \u001b[0;31m# Se construye un DataFrame con las métricas de los modelos baseline\u001b[0m\u001b[0;34m\u001b[0m\u001b[0;34m\u001b[0m\u001b[0m\n\u001b[1;32m      5\u001b[0m results_baseline = pd.DataFrame([\n\u001b[0;32m----> 6\u001b[0;31m     \u001b[0;34m{\u001b[0m\u001b[0;34m\"Modelo\"\u001b[0m\u001b[0;34m:\u001b[0m \u001b[0;34m\"LogReg (baseline)\"\u001b[0m\u001b[0;34m,\u001b[0m \u001b[0;34m\"Macro-Precision\"\u001b[0m\u001b[0;34m:\u001b[0m \u001b[0mlog_prec\u001b[0m\u001b[0;34m,\u001b[0m \u001b[0;34m\"Macro-Recall\"\u001b[0m\u001b[0;34m:\u001b[0m \u001b[0mlog_rec\u001b[0m\u001b[0;34m,\u001b[0m \u001b[0;34m\"Macro-F1\"\u001b[0m\u001b[0;34m:\u001b[0m \u001b[0mlog_f1\u001b[0m\u001b[0;34m}\u001b[0m\u001b[0;34m,\u001b[0m\u001b[0;34m\u001b[0m\u001b[0;34m\u001b[0m\u001b[0m\n\u001b[0m\u001b[1;32m      7\u001b[0m     \u001b[0;34m{\u001b[0m\u001b[0;34m\"Modelo\"\u001b[0m\u001b[0;34m:\u001b[0m \u001b[0;34m\"SVM (baseline)\"\u001b[0m\u001b[0;34m,\u001b[0m    \u001b[0;34m\"Macro-Precision\"\u001b[0m\u001b[0;34m:\u001b[0m \u001b[0msvm_prec\u001b[0m\u001b[0;34m,\u001b[0m \u001b[0;34m\"Macro-Recall\"\u001b[0m\u001b[0;34m:\u001b[0m \u001b[0msvm_rec\u001b[0m\u001b[0;34m,\u001b[0m \u001b[0;34m\"Macro-F1\"\u001b[0m\u001b[0;34m:\u001b[0m \u001b[0msvm_f1\u001b[0m\u001b[0;34m}\u001b[0m\u001b[0;34m,\u001b[0m\u001b[0;34m\u001b[0m\u001b[0;34m\u001b[0m\u001b[0m\n\u001b[1;32m      8\u001b[0m ])\n",
            "\u001b[0;31mNameError\u001b[0m: name 'log_prec' is not defined"
          ]
        }
      ],
      "execution_count": null,
      "id": "S_ew0UNS610E"
    },
    {
      "cell_type": "code",
      "metadata": {
        "colab": {
          "base_uri": "https://localhost:8080/",
          "height": 211
        },
        "id": "-86gEnOy610E",
        "outputId": "b6c9ec7f-6f83-4058-ef1b-cec944037fbe"
      },
      "source": [
        "# Se construye una lista con los mejores modelos encontrados en GridSearch,\n",
        "# guardando el nombre, el estimador y el mejor puntaje\n",
        "best_grid_models = [\n",
        "    (\"LogReg (grid)\", grid_log.best_estimator_, grid_log.best_score_),\n",
        "    (\"SVM (grid)\", grid_svm.best_estimator_, grid_svm.best_score_)\n",
        "]\n",
        "\n",
        "# Se selecciona el modelo con mayor puntaje de Macro-F1\n",
        "best_name, best_est, best_score = sorted(best_grid_models, key=lambda x: x[2], reverse=True)[0]\n",
        "print(f\"Mejor modelo por GridSearchCV: {best_name} con Macro-F1 CV = {best_score:.4f}\")\n",
        "\n",
        "# Se generan predicciones con validación cruzada usando el mejor modelo encontrado\n",
        "y_pred_best = cross_val_predict(best_est, X, y, cv=cv)\n",
        "\n",
        "# Se imprime un reporte detallado de clasificación con métricas por clase y promedios macro\n",
        "print(\"\\nClassification report (macro promedios relevantes):\")\n",
        "print(classification_report(y, y_pred_best, zero_division=0, target_names=le.classes_))\n",
        "\n",
        "# Se imprime la matriz de confusión para analizar los aciertos y errores por clase\n",
        "print(\"Matriz de confusión:\")\n",
        "print(confusion_matrix(y, y_pred_best))"
      ],
      "outputs": [
        {
          "output_type": "error",
          "ename": "NameError",
          "evalue": "name 'grid_log' is not defined",
          "traceback": [
            "\u001b[0;31m---------------------------------------------------------------------------\u001b[0m",
            "\u001b[0;31mNameError\u001b[0m                                 Traceback (most recent call last)",
            "\u001b[0;32m/tmp/ipython-input-2471234297.py\u001b[0m in \u001b[0;36m<cell line: 0>\u001b[0;34m()\u001b[0m\n\u001b[1;32m      2\u001b[0m \u001b[0;31m# guardando el nombre, el estimador y el mejor puntaje\u001b[0m\u001b[0;34m\u001b[0m\u001b[0;34m\u001b[0m\u001b[0m\n\u001b[1;32m      3\u001b[0m best_grid_models = [\n\u001b[0;32m----> 4\u001b[0;31m     \u001b[0;34m(\u001b[0m\u001b[0;34m\"LogReg (grid)\"\u001b[0m\u001b[0;34m,\u001b[0m \u001b[0mgrid_log\u001b[0m\u001b[0;34m.\u001b[0m\u001b[0mbest_estimator_\u001b[0m\u001b[0;34m,\u001b[0m \u001b[0mgrid_log\u001b[0m\u001b[0;34m.\u001b[0m\u001b[0mbest_score_\u001b[0m\u001b[0;34m)\u001b[0m\u001b[0;34m,\u001b[0m\u001b[0;34m\u001b[0m\u001b[0;34m\u001b[0m\u001b[0m\n\u001b[0m\u001b[1;32m      5\u001b[0m     \u001b[0;34m(\u001b[0m\u001b[0;34m\"SVM (grid)\"\u001b[0m\u001b[0;34m,\u001b[0m \u001b[0mgrid_svm\u001b[0m\u001b[0;34m.\u001b[0m\u001b[0mbest_estimator_\u001b[0m\u001b[0;34m,\u001b[0m \u001b[0mgrid_svm\u001b[0m\u001b[0;34m.\u001b[0m\u001b[0mbest_score_\u001b[0m\u001b[0;34m)\u001b[0m\u001b[0;34m\u001b[0m\u001b[0;34m\u001b[0m\u001b[0m\n\u001b[1;32m      6\u001b[0m ]\n",
            "\u001b[0;31mNameError\u001b[0m: name 'grid_log' is not defined"
          ]
        }
      ],
      "execution_count": null,
      "id": "-86gEnOy610E"
    },
    {
      "cell_type": "markdown",
      "metadata": {
        "id": "dHbTWM_T610E"
      },
      "source": [
        "<a id=\"conclusions\"></a>\n",
        "## 8. Conclusiones\n",
        "\n",
        "- De acuerdo con la validación cruzada (10 folds), el mejor modelo fue SVM (con GridSearchCV), alcanzando un Macro-F1 = 1.0, lo que indica que clasificó correctamente todas las instancias del dataset. Sin embargo, este resultado podría estar influenciado por la simplicidad del dataset, por lo que en un dataset más complejo sería necesario revisar si se mantiene este rendimiento.  \n",
        "- El desempeño en Macro-F1 sugiere que el modelo maneja adecuadamente las clases, incluso frente al desbalance presente en la variable objetivo.  \n",
        "- En comparación, la Regresión Logística también tuvo un buen desempeño (Macro-F1 ≈ 0.88), pero no superó a SVM.\n",
        "-Las variables relacionadas con la seguridad (safety) y el costo de mantenimiento (maint) parecen ser de las más influyentes en la predicción, ya que reflejan factores clave en la evaluación de un automóvil.\n",
        "\n",
        "- El dataset Car Evaluation (de UCI) tiene solo 1.7k registros y 6 variables categóricas. No es muy grande ni ruidoso, lo que facilita que un modelo potente como SVM lo aprenda casi a la perfección.\n",
        "\n",
        "- En este dataset, combinaciones de atributos como safety=high + persons=4 determinan casi de forma directa la clase (good, vgood, unacc). Eso significa que el problema no es ambiguo: hay reglas claras que separan las clases.\n",
        "\n",
        "**Posibles mejoras:**\n",
        "- Ajustar pesos de clase (`class_weight`) si el desbalance afecta el rendimiento.\n",
        "- Probar calibración de probabilidades y umbrales para mejorar la interpretación de las predicciones.\n",
        "- Evaluar otras familias de modelos (árboles, ensambles como Random Forest o XGBoost) si estuviera permitido.\n"
      ],
      "id": "dHbTWM_T610E"
    },
    {
      "cell_type": "code",
      "source": [],
      "metadata": {
        "id": "aXsoGqA3GlAF"
      },
      "id": "aXsoGqA3GlAF",
      "execution_count": null,
      "outputs": []
    }
  ],
  "metadata": {
    "kernelspec": {
      "display_name": "Python 3",
      "language": "python",
      "name": "python3"
    },
    "language_info": {
      "name": "python",
      "version": "3"
    },
    "colab": {
      "provenance": []
    }
  },
  "nbformat": 4,
  "nbformat_minor": 5
}